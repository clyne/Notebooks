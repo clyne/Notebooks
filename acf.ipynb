{
 "cells": [
  {
   "cell_type": "code",
   "execution_count": 15,
   "metadata": {},
   "outputs": [],
   "source": [
    "import numpy as np\n",
    "import numpy\n",
    "import xarray as xr\n",
    "import matplotlib.pyplot as plot\n"
   ]
  },
  {
   "cell_type": "code",
   "execution_count": 6,
   "metadata": {},
   "outputs": [],
   "source": [
    "def normalize_axis(axis,ndim):\n",
    "    \n",
    "    # axis is either a scalar or iterable. \n",
    "    #\n",
    "    try:\n",
    "        iterator = iter(axis)\n",
    "    except TypeError:\n",
    "        # not iterable\n",
    "        axis = [axis]\n",
    "  \n",
    "    \n",
    "    axis = [x if x >= 0 else ndim+x for x in axis]\n",
    "    \n",
    "    return axis"
   ]
  },
  {
   "cell_type": "code",
   "execution_count": 7,
   "metadata": {},
   "outputs": [],
   "source": [
    "def read_var(file, ftype, varname, ts, dims=[1,1,1]):\n",
    "    print('file = ', file)\n",
    "    if ftype == \"netcdf\":\n",
    "        ds = xr.open_dataset(file, decode_times=False)\n",
    "        data = ds.get(varname).isel(time=ts).values\n",
    "    else:\n",
    "        nelements = np.prod(dims)\n",
    "        data = np.fromfile(file, dtype=np.float32, count=nelements)\n",
    "        data = np.squeeze(data.reshape(dims))\n",
    "\n",
    "    return (data)"
   ]
  },
  {
   "cell_type": "code",
   "execution_count": 8,
   "metadata": {},
   "outputs": [],
   "source": [
    "def autocorr1(x,lags):\n",
    "    '''numpy.corrcoef, partial'''\n",
    "\n",
    "    corr=[1. if l==0 else numpy.corrcoef(x[l:],x[:-l])[0][1] for l in lags]\n",
    "    return numpy.array(corr)"
   ]
  },
  {
   "cell_type": "code",
   "execution_count": 9,
   "metadata": {},
   "outputs": [],
   "source": [
    "def autocorr2(x,lags):\n",
    "    '''manualy compute, non partial'''\n",
    "\n",
    "    mean=numpy.mean(x)\n",
    "    var=numpy.var(x)\n",
    "    xp=x-mean\n",
    "    corr=[1. if l==0 else numpy.sum(xp[l:]*xp[:-l])/len(x)/var for l in lags]\n",
    "\n",
    "    return numpy.array(corr)\n"
   ]
  },
  {
   "cell_type": "code",
   "execution_count": 10,
   "metadata": {},
   "outputs": [],
   "source": [
    "#\n",
    "# FFT-based autocorrelation with padding\n",
    "# \n",
    "def autocorr3(x,lags,axis=-1):\n",
    "    '''fft, pad 0s, non partial'''\n",
    "\n",
    "    n=x.shape[axis]\n",
    "    # pad 0s to 2n-1\n",
    "    ext_size=2*n-1\n",
    "    # nearest power of 2\n",
    "    fsize=2**numpy.ceil(numpy.log2(ext_size)).astype('int')\n",
    "\n",
    "    xp=x-numpy.mean(x,axis=axis,keepdims=True)\n",
    "    var=numpy.var(x,axis=axis,keepdims=True)\n",
    "\n",
    "    # do fft and ifft\n",
    "    cf=numpy.fft.fft(xp,fsize,axis=axis)\n",
    "    sf=cf.conjugate()*cf\n",
    "    corr=numpy.fft.ifft(sf,axis=axis).real\n",
    "    corr = np.divide(corr,var,where=(var!=0.0))\n",
    "    corr = corr / n\n",
    "   \n",
    "    naxis = tuple(set(np.arange(x.ndim).tolist()) - set(normalize_axis(axis,x.ndim)))\n",
    "    \n",
    "    return np.mean(corr,axis=naxis)[:len(lags)]\n",
    "\n"
   ]
  },
  {
   "cell_type": "code",
   "execution_count": 11,
   "metadata": {},
   "outputs": [],
   "source": [
    "def autocorr4(x,lags):\n",
    "    '''fft, don't pad 0s, non partial'''\n",
    "    mean=x.mean()\n",
    "    var=numpy.var(x)\n",
    "    xp=x-mean\n",
    "\n",
    "    cf=numpy.fft.fft(xp)\n",
    "    sf=cf.conjugate()*cf\n",
    "    corr=numpy.fft.ifft(sf).real/var/len(x)\n",
    "    "
   ]
  },
  {
   "cell_type": "code",
   "execution_count": 12,
   "metadata": {},
   "outputs": [],
   "source": [
    "def autocorr5(x,lags):\n",
    "    '''numpy.correlate, non partial'''\n",
    "    mean=x.mean()\n",
    "    var=numpy.var(x)\n",
    "    xp=x-mean\n",
    "    corr=numpy.correlate(xp,xp,'full')[len(x)-1:]/var/len(x)\n",
    "\n",
    "    return corr[:len(lags)]"
   ]
  },
  {
   "cell_type": "code",
   "execution_count": 13,
   "metadata": {},
   "outputs": [
    {
     "name": "stdout",
     "output_type": "stream",
     "text": [
      "(64, 64)\n"
     ]
    },
    {
     "data": {
      "text/plain": [
       "[<matplotlib.lines.Line2D at 0x7fe8138e11c0>]"
      ]
     },
     "execution_count": 13,
     "metadata": {},
     "output_type": "execute_result"
    },
    {
     "data": {
      "image/png": "[encoded data removed]",
      "text/plain": [
       "<Figure size 432x288 with 1 Axes>"
      ]
     },
     "metadata": {
      "needs_background": "light"
     },
     "output_type": "display_data"
    }
   ],
   "source": [
    "import matplotlib.pyplot as plot\n",
    "\n",
    "t = np.arange(0, 64*64, 1,dtype=np.float32) / 64.0 * np.pi * 25.0\n",
    "s = np.sin(t).reshape(64,64)\n",
    "\n",
    "print (s.shape)\n",
    "n = 16\n",
    "lags = range(n)\n",
    "\n",
    "plot.plot(autocorr3(t,lags,axis=-1))\n",
    "\n"
   ]
  },
  {
   "cell_type": "code",
   "execution_count": 37,
   "metadata": {},
   "outputs": [
    {
     "name": "stdout",
     "output_type": "stream",
     "text": [
      "CLDTOT   0.0   1.0\n",
      "         dim = 0   [0.99999996 0.87487303 0.76533522 0.68190394]\n",
      "         dim = 1   [0.99869905 0.89372246 0.79388989 0.71467519]\n",
      "FLDS   94.57982   459.7665\n",
      "         dim = 0   [0.99999999 0.98678879 0.97468588 0.96366206]\n",
      "         dim = 1   [1.         0.95852748 0.92165327 0.88889622]\n",
      "FLDSC   94.16072   431.92297\n",
      "         dim = 0   [1.00000001 0.99632354 0.99179718 0.98696969]\n",
      "         dim = 1   [1.         0.99268171 0.9794218  0.96418709]\n",
      "FLNS   -80.99102   435.33313\n",
      "         dim = 0   [1.00000002 0.95611181 0.91626015 0.8821644 ]\n",
      "         dim = 1   [1.         0.94786605 0.89823612 0.85454549]\n",
      "FLUT   80.489204   374.09515\n",
      "         dim = 0   [1.00000002 0.97721298 0.94316017 0.90783344]\n",
      "         dim = 1   [1.         0.96967847 0.92413242 0.87539718]\n",
      "FLUTC   173.52068   376.0187\n",
      "         dim = 0   [1.         0.99505005 0.9885495  0.9818061 ]\n",
      "         dim = 1   [1.         0.9890874  0.97100861 0.95109461]\n",
      "FSDS   0.0   1104.7214\n",
      "         dim = 0   [0.99999993 0.98134859 0.96216939 0.94413644]\n",
      "         dim = 1   [1.         0.98877617 0.97521367 0.96174705]\n",
      "FSDSC   0.0   1105.4778\n",
      "         dim = 0   [1.00000018 0.99327633 0.98648944 0.97966932]\n",
      "         dim = 1   [1.         0.99832446 0.99609686 0.99370695]\n",
      "FSNS   0.0   1074.9822\n",
      "         dim = 0   [1.00000001 0.9724596  0.94392309 0.91828166]\n",
      "         dim = 1   [1.         0.98820293 0.9739142  0.95976989]\n",
      "FSNSC   0.0   1075.5436\n",
      "         dim = 0   [0.99999988 0.99051507 0.97924684 0.96798234]\n",
      "         dim = 1   [1.         0.99805455 0.99538615 0.99256676]\n",
      "FSNTOA   0.0   1327.1697\n",
      "         dim = 0   [0.99999996 0.9866243  0.97302563 0.96044673]\n",
      "         dim = 1   [1.         0.99392303 0.98674246 0.97960542]\n",
      "FSNTOAC   0.0   1327.1697\n",
      "         dim = 0   [1.00000018 0.99408107 0.98744635 0.9807201 ]\n",
      "         dim = 1   [1.         0.99816487 0.99568002 0.99304404]\n",
      "LHFLX   -230.00731   924.3833\n",
      "         dim = 0   [1.         0.97973442 0.95018745 0.92065756]\n",
      "         dim = 1   [1.         0.97395217 0.93938567 0.90549762]\n",
      "OMEGA500   -8.563181   3.4370985\n",
      "         dim = 0   [1.00000001 0.8678716  0.67351946 0.53348116]\n",
      "         dim = 1   [1.         0.89743527 0.73335588 0.59413851]\n",
      "OMEGA850   -7.199399   6.226275\n",
      "         dim = 0   [1.00000002 0.81509618 0.54035252 0.34442633]\n",
      "         dim = 1   [1.         0.87596378 0.65476877 0.46963822]\n",
      "PRECC   0.0   1.0735267e-06\n",
      "         dim = 0   [0.99999969 0.88528274 0.74131623 0.61874711]\n",
      "         dim = 1   [0.8972247  0.77028356 0.62993582 0.51055571]\n",
      "PRECL   -1.6854496e-20   1.8852295e-05\n",
      "         dim = 0   [1.         0.7392424  0.51367172 0.3682822 ]\n",
      "         dim = 1   [0.99869904 0.8000277  0.59652904 0.46127777]\n",
      "PRECSC   0.0   1.1438748e-07\n",
      "         dim = 0   [0.44480601 0.19084303 0.08797585 0.0512994 ]\n",
      "         dim = 1   [0.37263698 0.26433051 0.19939193 0.15347832]\n",
      "PRECSL   -1.3576364e-19   3.5453468e-06\n",
      "         dim = 0   [0.99999996 0.793574   0.61343179 0.48802743]\n",
      "         dim = 1   [0.98699054 0.54681812 0.44280655 0.3759205 ]\n",
      "PRECT   -1.6854496e-20   1.8852295e-05\n",
      "         dim = 0   [0.99999998 0.82871157 0.63064182 0.48510033]\n",
      "         dim = 1   [0.99869905 0.86140082 0.67924896 0.53685144]\n",
      "PREC_pcw   -1.6854496e-20   1.8852295e-05\n",
      "         dim = 0   [1.         0.7392424  0.51367172 0.3682822 ]\n",
      "         dim = 1   [0.99869904 0.8000277  0.59652904 0.46127777]\n",
      "PREC_zmc   0.0   1.0735267e-06\n",
      "         dim = 0   [0.99999969 0.88528274 0.74131623 0.61874711]\n",
      "         dim = 1   [0.8972247  0.77088139 0.63352111 0.51791933]\n",
      "PS   49771.2   103770.83\n",
      "         dim = 0   [1.00000001 0.98627163 0.9662682  0.9437164 ]\n",
      "         dim = 1   [0.99869905 0.98582282 0.95626873 0.92171148]\n",
      "PSL   95243.63   106444.81\n",
      "         dim = 0   [0.99999997 0.99785502 0.99479433 0.99115704]\n",
      "         dim = 1   [0.99869905 0.99441121 0.98802246 0.98137674]\n",
      "QREFHT   3.3239467e-05   0.023403471\n",
      "         dim = 0   [0.99999998 0.99666233 0.99218381 0.98747995]\n",
      "         dim = 1   [0.99869905 0.99005478 0.97714318 0.96336531]\n",
      "RHREFHT   14.376854   2262.7522\n",
      "         dim = 0   [1.         0.96803656 0.93121324 0.89890837]\n",
      "         dim = 1   [1.         0.96673324 0.9192534  0.87463613]\n",
      "SHFLX   -152.55318   2514.837\n",
      "         dim = 0   [1.00000001 0.96033859 0.91817421 0.88401355]\n",
      "         dim = 1   [1.         0.96789838 0.92942892 0.8953728 ]\n",
      "SOLIN   0.0   1408.253\n",
      "         dim = 0   [0.99999979 0.99421916 0.98840343 0.98255361]\n",
      "         dim = 1   [0.99869905 0.99324417 0.98638276 0.97998823]\n",
      "T500   226.54243   271.30182\n",
      "         dim = 0   [0.99999999 0.99843636 0.99662813 0.99459704]\n",
      "         dim = 1   [0.99869904 0.99305351 0.98575248 0.97804533]\n",
      "T850   227.19751   302.54214\n",
      "         dim = 0   [1.00000001 0.99618395 0.99167138 0.98697688]\n",
      "         dim = 1   [1.         0.98758612 0.96776959 0.94829757]\n",
      "TGCLDIWP   0.0   0.7850221\n",
      "         dim = 0   [0.9999999  0.90455323 0.78394074 0.67756305]\n",
      "         dim = 1   [0.99609714 0.91950408 0.81731186 0.7203355 ]\n",
      "TGCLDLWP   0.0   2.2505817\n",
      "         dim = 0   [0.99999991 0.88084232 0.74242739 0.62581999]\n",
      "         dim = 1   [0.98811915 0.86923931 0.74987952 0.6486541 ]\n",
      "TMQ   0.20576538   75.97875\n",
      "         dim = 0   [1.00000001 0.996643   0.99052245 0.98306493]\n",
      "         dim = 1   [1.         0.99254494 0.97721561 0.95847421]\n",
      "TREFHT   215.13908   303.04626\n",
      "         dim = 0   [1.         0.99483072 0.9887749  0.98264136]\n",
      "         dim = 1   [1.         0.99091293 0.97659491 0.96161925]\n",
      "TREFHTMN   215.13908   303.04626\n",
      "         dim = 0   [1.         0.99483072 0.9887749  0.98264136]\n",
      "         dim = 1   [1.         0.99091293 0.97659491 0.96161925]\n",
      "TREFHTMX   215.13908   303.04626\n",
      "         dim = 0   [1.         0.99483072 0.9887749  0.98264136]\n",
      "         dim = 1   [1.         0.99091293 0.97659491 0.96161925]\n",
      "TREFMNAV   215.13908   303.04626\n",
      "         dim = 0   [1.         0.99483072 0.9887749  0.98264136]\n",
      "         dim = 1   [1.         0.99091293 0.97659491 0.96161925]\n",
      "TREFMXAV   215.13908   303.04626\n",
      "         dim = 0   [1.         0.99483072 0.9887749  0.98264136]\n",
      "         dim = 1   [1.         0.99091293 0.97659491 0.96161925]\n"
     ]
    }
   ],
   "source": [
    "file = '/Users/clyne/Data/CAM/AMIP_0.25degree/cam5_1_amip_run2.cam2.h1.1979-01-01-00000.nc'\n",
    "\n",
    "\n",
    "\n",
    "ds = xr.open_dataset(file, decode_times=False)\n",
    "for varname in ds.data_vars:\n",
    "\n",
    "    if ds[varname].ndim == 3:\n",
    "        data = ds.get(varname).isel(time=0).values\n",
    "        \n",
    "        lags=range(4)\n",
    "\n",
    "        # print 4-lag autocorrelation. Note lag=0 should be ~1.0\n",
    "        print (varname, ' ', np.min(data), ' ', np.max(data))\n",
    "        for d in (0,1):\n",
    "            print('        ', 'dim =', d, ' ', autocorr3(data,lags,axis=d))\n",
    "\n",
    "\n",
    "\n"
   ]
  },
  {
   "cell_type": "code",
   "execution_count": null,
   "metadata": {},
   "outputs": [],
   "source": []
  }
 ],
 "metadata": {
  "kernelspec": {
   "display_name": "Python 3",
   "language": "python",
   "name": "python3"
  },
  "language_info": {
   "codemirror_mode": {
    "name": "ipython",
    "version": 3
   },
   "file_extension": ".py",
   "mimetype": "text/x-python",
   "name": "python",
   "nbconvert_exporter": "python",
   "pygments_lexer": "ipython3",
   "version": "3.8.6"
  }
 },
 "nbformat": 4,
 "nbformat_minor": 4
}
